{
 "cells": [
  {
   "cell_type": "code",
   "execution_count": 2,
   "metadata": {
    "collapsed": false
   },
   "outputs": [
    {
     "name": "stderr",
     "output_type": "stream",
     "text": [
      "C:\\ProgramData\\Anaconda3\\lib\\site-packages\\h5py\\__init__.py:36: FutureWarning: Conversion of the second argument of issubdtype from `float` to `np.floating` is deprecated. In future, it will be treated as `np.float64 == np.dtype(float).type`.\n",
      "  from ._conv import register_converters as _register_converters\n",
      "Using TensorFlow backend.\n",
      "C:\\ProgramData\\Anaconda3\\lib\\site-packages\\gensim\\utils.py:1197: UserWarning: detected Windows; aliasing chunkize to chunkize_serial\n",
      "  warnings.warn(\"detected Windows; aliasing chunkize to chunkize_serial\")\n"
     ]
    }
   ],
   "source": [
    "import sys\n",
    "sys.path.append(\"..\")\n",
    "import pickle\n",
    "\n",
    "import pandas as pd\n",
    "import numpy as np\n",
    "from keras import backend as K\n",
    "from keras.models import load_model\n",
    "\n",
    "from cleaning import cleaning_functions\n",
    "from analysis import analysis_functions"
   ]
  },
  {
   "cell_type": "code",
   "execution_count": 4,
   "metadata": {
    "collapsed": true
   },
   "outputs": [],
   "source": [
    "cleaning_meta_dict = pickle.load(open( \"../cleaning/meta_dict.p\", \"rb\" ))\n",
    "analysis_meta_dict = pickle.load(open( \"../analysis/meta_dict.p\", \"rb\" ))\n",
    "model = load_model(\"../analysis/model.hdf5\")"
   ]
  },
  {
   "cell_type": "code",
   "execution_count": 5,
   "metadata": {
    "collapsed": true
   },
   "outputs": [],
   "source": [
    "import time, random\n",
    "from gensim.models import word2vec\n",
    "from sklearn.neighbors import KDTree"
   ]
  },
  {
   "cell_type": "code",
   "execution_count": 16,
   "metadata": {
    "collapsed": false
   },
   "outputs": [],
   "source": [
    "# analysis_meta_dict[\"embeddings\"].init_sims(replace = True)"
   ]
  },
  {
   "cell_type": "code",
   "execution_count": 3,
   "metadata": {
    "collapsed": false
   },
   "outputs": [
    {
     "ename": "NameError",
     "evalue": "name 'analysis_meta_dict' is not defined",
     "output_type": "error",
     "traceback": [
      "\u001b[0;31m---------------------------------------------------------------------------\u001b[0m",
      "\u001b[0;31mNameError\u001b[0m                                 Traceback (most recent call last)",
      "\u001b[0;32m<ipython-input-3-b9847f06692e>\u001b[0m in \u001b[0;36m<module>\u001b[0;34m()\u001b[0m\n\u001b[1;32m      1\u001b[0m \u001b[0mi\u001b[0m \u001b[1;33m=\u001b[0m \u001b[1;36m0\u001b[0m\u001b[1;33m\u001b[0m\u001b[0m\n\u001b[0;32m----> 2\u001b[0;31m \u001b[1;32mfor\u001b[0m \u001b[0mvocab\u001b[0m \u001b[1;32min\u001b[0m \u001b[0manalysis_meta_dict\u001b[0m\u001b[1;33m[\u001b[0m\u001b[1;34m\"embeddings\"\u001b[0m\u001b[1;33m]\u001b[0m\u001b[1;33m.\u001b[0m\u001b[0mwv\u001b[0m\u001b[1;33m.\u001b[0m\u001b[0mvocab\u001b[0m\u001b[1;33m.\u001b[0m\u001b[0mitems\u001b[0m\u001b[1;33m(\u001b[0m\u001b[1;33m)\u001b[0m\u001b[1;33m:\u001b[0m\u001b[1;33m\u001b[0m\u001b[0m\n\u001b[0m\u001b[1;32m      3\u001b[0m     \u001b[0mword\u001b[0m \u001b[1;33m=\u001b[0m \u001b[0mvocab\u001b[0m\u001b[1;33m[\u001b[0m\u001b[1;36m0\u001b[0m\u001b[1;33m]\u001b[0m\u001b[1;33m\u001b[0m\u001b[0m\n\u001b[1;32m      4\u001b[0m     \u001b[0mcount\u001b[0m \u001b[1;33m=\u001b[0m \u001b[0mvocab\u001b[0m\u001b[1;33m[\u001b[0m\u001b[1;36m1\u001b[0m\u001b[1;33m]\u001b[0m\u001b[1;33m.\u001b[0m\u001b[0mcount\u001b[0m\u001b[1;33m\u001b[0m\u001b[0m\n\u001b[1;32m      5\u001b[0m     \u001b[0mprint\u001b[0m\u001b[1;33m(\u001b[0m\u001b[0mword\u001b[0m\u001b[1;33m,\u001b[0m \u001b[0mcount\u001b[0m\u001b[1;33m)\u001b[0m\u001b[1;33m\u001b[0m\u001b[0m\n",
      "\u001b[0;31mNameError\u001b[0m: name 'analysis_meta_dict' is not defined"
     ]
    }
   ],
   "source": [
    "i = 0\n",
    "for vocab in analysis_meta_dict[\"embeddings\"].wv.vocab.items():\n",
    "    word = vocab[0]\n",
    "    count = vocab[1].count\n",
    "    print(word, count)\n",
    "    i += 1\n",
    "    if i >= 10: break"
   ]
  },
  {
   "cell_type": "code",
   "execution_count": 7,
   "metadata": {
    "collapsed": true
   },
   "outputs": [],
   "source": [
    "def get_counts(word):\n",
    "    return analysis_meta_dict[\"embeddings\"].wv.vocab[word].count"
   ]
  },
  {
   "cell_type": "code",
   "execution_count": 100,
   "metadata": {
    "collapsed": false
   },
   "outputs": [],
   "source": [
    "num_counts = dict()\n",
    "for i in range(101,1001):\n",
    "    if str(i) in analysis_meta_dict[\"embeddings\"].wv:\n",
    "        num_counts[i] = get_counts(str(i))\n"
   ]
  },
  {
   "cell_type": "code",
   "execution_count": 76,
   "metadata": {
    "collapsed": false
   },
   "outputs": [],
   "source": [
    "from matplotlib import pyplot as plt"
   ]
  },
  {
   "cell_type": "code",
   "execution_count": null,
   "metadata": {
    "collapsed": true
   },
   "outputs": [],
   "source": [
    "plt.bar(list(num_counts.keys()), list(num_counts.values()))"
   ]
  },
  {
   "cell_type": "code",
   "execution_count": 101,
   "metadata": {
    "collapsed": false
   },
   "outputs": [
    {
     "data": {
      "image/png": "[encoded data removed]",
      "text/plain": [
       "<matplotlib.figure.Figure at 0x19bfc4ad198>"
      ]
     },
     "metadata": {},
     "output_type": "display_data"
    }
   ],
   "source": [
    "plt.bar(range(len(num_counts)), list(num_counts.values()), tick_label=list(num_counts.keys()))\n",
    "plt.title(\"Integers found in MemeGenerator memes\")\n",
    "plt.xticks(rotation='vertical')\n",
    "plt.xlabel(\"Integers\")\n",
    "plt.ylabel(\"Counts\")\n",
    "plt.show()"
   ]
  },
  {
   "cell_type": "code",
   "execution_count": 182,
   "metadata": {
    "collapsed": false
   },
   "outputs": [
    {
     "name": "stdout",
     "output_type": "stream",
     "text": [
      "[('breakup', 1.0), ('shock', 0.9409939646720886), ('cough', 0.9397492408752441), ('prove', 0.9367891550064087), ('backup', 0.9366786479949951)]\n",
      "time/query by most_similar Search = 0.00 ms\n"
     ]
    }
   ],
   "source": [
    "start = time.time()\n",
    "for word in words:\n",
    "    print(analysis_meta_dict[\"embeddings\"].wv.similar_by_vector(analysis_meta_dict[\"embeddings\"].wv[word], topn = 5))\n",
    "    break\n",
    "stop = time.time()\n",
    "print(\"time/query by most_similar Search = %.2f ms\" % (1000*float(stop-start)/len(words)))"
   ]
  },
  {
   "cell_type": "code",
   "execution_count": 337,
   "metadata": {
    "collapsed": true
   },
   "outputs": [],
   "source": [
    "sec_size = analysis_meta_dict[\"embeddings\"].vector_size + len(analysis_meta_dict[\"pos\"]) + len(analysis_meta_dict[\"sentiment\"])\n",
    "input_data = model.input"
   ]
  },
  {
   "cell_type": "code",
   "execution_count": 338,
   "metadata": {
    "collapsed": false
   },
   "outputs": [],
   "source": [
    "# build a loss function that maximizes the activation\n",
    "loss = K.mean(model.output[:, output_index])\n",
    "\n",
    "# compute the gradient of the input picture wrt this loss\n",
    "grads = K.gradients(loss, input_data)[0]\n",
    "\n",
    "# normalization trick: we normalize the gradient\n",
    "grads /= (K.sqrt(K.mean(K.square(grads))) + 1e-5)\n",
    "\n",
    "# this function returns the loss and grads given the input picture\n",
    "iterate = K.function([input_data], [loss, grads])"
   ]
  },
  {
   "cell_type": "code",
   "execution_count": 360,
   "metadata": {
    "collapsed": false
   },
   "outputs": [],
   "source": [
    "# we start from a gray image with some noise\n",
    "input_new_data = np.random.random((1, 50, sec_size))\n",
    "# run gradient ascent for 20 steps\n",
    "for i in range(20):\n",
    "    loss_value, grads_value = iterate([input_new_data])\n",
    "    input_new_data += grads_value * .05"
   ]
  },
  {
   "cell_type": "code",
   "execution_count": 345,
   "metadata": {
    "collapsed": false
   },
   "outputs": [
    {
     "name": "stdout",
     "output_type": "stream",
     "text": [
      "50\n"
     ]
    }
   ],
   "source": [
    "for i in range(50):\n",
    "    print(analysis_meta_dict[\"embeddings\"].wv.similar_by_vector(input_new_data, topn = 5))\n",
    "    break"
   ]
  },
  {
   "cell_type": "code",
   "execution_count": 366,
   "metadata": {
    "collapsed": false
   },
   "outputs": [
    {
     "name": "stdout",
     "output_type": "stream",
     "text": [
      "olivia olivia *ddr3 staircase notion a+ a+ olivia 2-0 *ddr3 spank notion notion a+ olivia olivia 2-0 perfection *ddr3 olivia olivia napster olivia sank lot* *low notion olivia perfection sank perfection notion olivia 2-0 sank o'clock a+ perfection olivia 2-0 napster notion notion a+ perfection 2-0 notion sank tosh transit\n"
     ]
    }
   ],
   "source": [
    "sentence = list()\n",
    "for word_vector in input_new_data[0]:\n",
    "    sentence.append(analysis_meta_dict[\"embeddings\"].wv.similar_by_vector(word_vector[0:50], topn = 5)[0][0])\n",
    "print(' '.join(sentence))"
   ]
  },
  {
   "cell_type": "code",
   "execution_count": 543,
   "metadata": {
    "collapsed": true
   },
   "outputs": [],
   "source": [
    "def get_meme_of_type(meme_num):\n",
    "    output_index = meme_num\n",
    "    \n",
    "    # build a loss function that maximizes the activation\n",
    "    loss = K.mean(model.output[:, output_index])\n",
    "\n",
    "    # compute the gradient of the input with this loss\n",
    "    grads = K.gradients(loss, input_data)[0]\n",
    "\n",
    "    # normalization trick: we normalize the gradient\n",
    "    grads /= (K.sqrt(K.mean(K.square(grads))) + 1e-5)\n",
    "\n",
    "    # this function returns the loss and grads given the input\n",
    "    iterate = K.function([input_data], [loss, grads])\n",
    "    \n",
    "    # we start from some noise\n",
    "    input_new_data = (np.random.random((1, 50, sec_size)) - .5)*2\n",
    "    # run gradient ascent for 20 steps\n",
    "    for i in range(200):\n",
    "        loss_value, grads_value = iterate([input_new_data])\n",
    "        input_new_data += grads_value * .05\n",
    "\n",
    "    return input_new_data"
   ]
  },
  {
   "cell_type": "code",
   "execution_count": 544,
   "metadata": {
    "collapsed": false
   },
   "outputs": [
    {
     "name": "stdout",
     "output_type": "stream",
     "text": [
      "predicted class: 3, at 0.97342074\n"
     ]
    },
    {
     "data": {
      "text/plain": [
       "\"stingray y washroom on a+ bat waite can rant vote 3am '' forgive their staircase up bologna is moi y perfection gon ocarina does claiming na slenderman does up vote and people configure to 's there memo did singing u fisherman 're psycho gon 'how your improvement bat rubar be\""
      ]
     },
     "execution_count": 544,
     "metadata": {},
     "output_type": "execute_result"
    }
   ],
   "source": [
    "new_meme = get_meme_of_type(np.argmax(analysis_meta_dict[\"memes\"][\"Captain Picard\"]))\n",
    "\n",
    "class_scores = model.predict(new_meme)[0]\n",
    "best_class = np.argmax(class_scores)\n",
    "\n",
    "print(\"predicted class: \" + str(best_class) + \", at \" + str(class_scores[np.argmax(class_scores)]))\n",
    "\n",
    "sentence = list()\n",
    "for word_vector in new_meme[0]:\n",
    "    potential_words = analysis_meta_dict[\"embeddings\"].wv.similar_by_vector(word_vector[0:50], topn = 50)\n",
    "    if(len(sentence)%2 ==  0): sentence.append(potential_words[0][0])\n",
    "    else: \n",
    "        pos_next = analysis_meta_dict[\"embeddings\"].predict_output_word(sentence[-1:])\n",
    "        sentence.append(pos_next[0][0])\n",
    "print(' '.join(sentence))"
   ]
  },
  {
   "cell_type": "code",
   "execution_count": 472,
   "metadata": {
    "collapsed": false
   },
   "outputs": [
    {
     "data": {
      "text/plain": [
       "array(['Awkward Situation Seal', 'Bad Luck Brian', 'Batman Slap Robin',\n",
       "       'Captain Picard', 'Chemistry Cat', 'Condescending Wonka',\n",
       "       'Confession Bear', 'Conspiracy Keanu', 'Correction Guy',\n",
       "       'Disaster Girl', 'Doge', 'Dr Evil Meme', 'Drunk Baby',\n",
       "       'First World Problems', 'Forever Alone', 'Futurama Fry',\n",
       "       'Good Guy Greg', 'Grumpy Cat', 'Insanity Wolf', 'Joker Mind Loss',\n",
       "       'Joseph Ducreux', 'Kermit Drinking Tea', 'Most Interesting Man',\n",
       "       'Mr Bean', 'One Does Not Simply', 'Philosoraptor', 'Scumbag Steve',\n",
       "       'Skeptical 3rd World Kid', 'Slowpoke', 'Southpark Bad Time',\n",
       "       'Spongebob Imagination', 'Stoner Stanley', 'Success Kid',\n",
       "       'Sudden Realization Ralph', 'That Would Be Great', 'Trollface',\n",
       "       'Unpopular Opinion Puffin', 'What If I Told You', 'Y U No',\n",
       "       'Yo Dawg'], dtype=object)"
      ]
     },
     "execution_count": 472,
     "metadata": {},
     "output_type": "execute_result"
    }
   ],
   "source": [
    "analysis_meta_dict[\"meme_names\"]"
   ]
  },
  {
   "cell_type": "code",
   "execution_count": 540,
   "metadata": {
    "collapsed": false
   },
   "outputs": [],
   "source": [
    "sentence = list()\n",
    "for word_vector in new_meme[0]:\n",
    "    potential_words = analysis_meta_dict[\"embeddings\"].wv.similar_by_vector(word_vector[0:50], topn = 50)\n",
    "    if(len(sentence)%2 ==  0): sentence.append(potential_words[0][0])\n",
    "    else: \n",
    "        pos_next = analysis_meta_dict[\"embeddings\"].predict_output_word(sentence[-1:])\n",
    "        sentence.append(pos_next[0][0])\n",
    "' '.join(sentence)"
   ]
  },
  {
   "cell_type": "code",
   "execution_count": 542,
   "metadata": {
    "collapsed": false
   },
   "outputs": [
    {
     "data": {
      "text/plain": [
       "\"improvement bat logan year flicker if islander his darn ! raped n't norway u anorexic be casket `` applies n't qatar na b*tech i revolution a in walk out of unsuccessful bat 11-5 turn aspergers about cowbell year dorm gon is there waltz if brainwash gon hamilton guy pet\\\\ ``\""
      ]
     },
     "execution_count": 542,
     "metadata": {},
     "output_type": "execute_result"
    }
   ],
   "source": [
    "' '.join(sentence)"
   ]
  }
 ],
 "metadata": {
  "kernelspec": {
   "display_name": "Python 3",
   "language": "python",
   "name": "python3"
  },
  "language_info": {
   "codemirror_mode": {
    "name": "ipython",
    "version": 3
   },
   "file_extension": ".py",
   "mimetype": "text/x-python",
   "name": "python",
   "nbconvert_exporter": "python",
   "pygments_lexer": "ipython3",
   "version": "3.6.0"
  }
 },
 "nbformat": 4,
 "nbformat_minor": 2
}
