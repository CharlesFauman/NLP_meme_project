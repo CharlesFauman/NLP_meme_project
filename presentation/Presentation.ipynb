{
 "cells": [
  {
   "cell_type": "code",
   "execution_count": 1,
   "metadata": {
    "collapsed": false
   },
   "outputs": [
    {
     "name": "stderr",
     "output_type": "stream",
     "text": [
      "C:\\ProgramData\\Anaconda3\\lib\\site-packages\\h5py\\__init__.py:36: FutureWarning: Conversion of the second argument of issubdtype from `float` to `np.floating` is deprecated. In future, it will be treated as `np.float64 == np.dtype(float).type`.\n",
      "  from ._conv import register_converters as _register_converters\n",
      "Using TensorFlow backend.\n",
      "C:\\ProgramData\\Anaconda3\\lib\\site-packages\\gensim\\utils.py:1197: UserWarning: detected Windows; aliasing chunkize to chunkize_serial\n",
      "  warnings.warn(\"detected Windows; aliasing chunkize to chunkize_serial\")\n"
     ]
    }
   ],
   "source": [
    "import sys\n",
    "sys.path.append(\"..\")\n",
    "import pickle\n",
    "\n",
    "import pandas as pd\n",
    "import numpy as np\n",
    "from keras.models import load_model\n",
    "\n",
    "from cleaning import cleaning_functions\n",
    "from analysis import analysis_functions"
   ]
  },
  {
   "cell_type": "code",
   "execution_count": 2,
   "metadata": {
    "collapsed": false
   },
   "outputs": [],
   "source": [
    "cleaning_meta_dict = pickle.load(open( \"../cleaning/meta_dict.p\", \"rb\" ))\n",
    "analysis_meta_dict = pickle.load(open( \"../analysis/meme_gen meta_dict.p\", \"rb\" ))\n",
    "model = load_model(\"../analysis/meme_gen model 2.hdf5\")"
   ]
  },
  {
   "cell_type": "code",
   "execution_count": 3,
   "metadata": {
    "collapsed": false
   },
   "outputs": [
    {
     "name": "stdout",
     "output_type": "stream",
     "text": [
      "prediction: Joseph Ducreux\n",
      "Joseph Ducreux: 0.18112382\n",
      "Joker Mind Loss: 0.09707071\n",
      "Mr Bean: 0.096238956\n",
      "Drunk Baby: 0.08634472\n",
      "Spongebob Imagination: 0.08099195\n",
      "Insanity Wolf: 0.07953434\n",
      "Y U No: 0.054088034\n",
      "Grumpy Cat: 0.05252747\n",
      "Trollface: 0.041651312\n",
      "Chemistry Cat: 0.03995527\n",
      "Stoner Stanley: 0.036991116\n",
      "Awkward Situation Seal: 0.029912187\n",
      "Captain Picard: 0.019428516\n",
      "Sudden Realization Ralph: 0.01698631\n",
      "Forever Alone: 0.015939504\n",
      "Confession Bear: 0.012289488\n",
      "Disaster Girl: 0.011286092\n",
      "Correction Guy: 0.008645863\n",
      "Batman Slap Robin: 0.0069044237\n",
      "Kermit Drinking Tea: 0.006665922\n",
      "Scumbag Steve: 0.0036391262\n",
      "Skeptical 3rd World Kid: 0.003527071\n",
      "Unpopular Opinion Puffin: 0.0031056346\n",
      "Success Kid: 0.0028656104\n",
      "First World Problems: 0.0025333497\n",
      "Good Guy Greg: 0.0020842622\n",
      "Bad Luck Brian: 0.0020702928\n",
      "Conspiracy Keanu: 0.0014674381\n",
      "Dr Evil Meme: 0.0011439743\n",
      "What If I Told You: 0.0007847401\n",
      "One Does Not Simply: 0.00066926144\n",
      "Slowpoke: 0.00047382488\n",
      "Yo Dawg: 0.00040778457\n",
      "Philosoraptor: 0.00031093493\n",
      "Doge: 0.00017870091\n",
      "Futurama Fry: 7.224632e-05\n",
      "Most Interesting Man: 4.3974633e-05\n",
      "Condescending Wonka: 4.3828808e-05\n",
      "Southpark Bad Time: 1.46171e-06\n",
      "That Would Be Great: 4.1981738e-07\n"
     ]
    }
   ],
   "source": [
    "sentence = \"i pass an alley with a couple argue she slap him and he look me straight in the eye , grin\"\n",
    "cleaned = cleaning_functions.clean_sentence(cleaning_meta_dict, sentence)\n",
    "cleaned_as_df = pd.DataFrame(cleaned, columns = [\"token\", \"pos\", \"sentiment\"])\n",
    "sentence_matrix = analysis_functions.vectorize_sentence(analysis_meta_dict, cleaned_as_df)\n",
    "prediction = model.predict(np.array([sentence_matrix]))[0]\n",
    "\n",
    "scores = list()\n",
    "for index, val in enumerate(prediction):\n",
    "    scores.append(tuple((analysis_meta_dict[\"meme_names\"][index], val)))\n",
    "    \n",
    "print(\"prediction: \" + analysis_meta_dict[\"meme_names\"][np.argmax(prediction)])\n",
    "\n",
    "for meme in sorted(scores, key=lambda tup: tup[1], reverse=True) :\n",
    "    print(str(meme[0]) + \": \" + str(meme[1]))"
   ]
  }
 ],
 "metadata": {
  "kernelspec": {
   "display_name": "Python 3",
   "language": "python",
   "name": "python3"
  },
  "language_info": {
   "codemirror_mode": {
    "name": "ipython",
    "version": 3
   },
   "file_extension": ".py",
   "mimetype": "text/x-python",
   "name": "python",
   "nbconvert_exporter": "python",
   "pygments_lexer": "ipython3",
   "version": "3.6.0"
  }
 },
 "nbformat": 4,
 "nbformat_minor": 2
}
